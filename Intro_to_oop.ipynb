{
  "nbformat": 4,
  "nbformat_minor": 0,
  "metadata": {
    "colab": {
      "name": "Intro to oop.ipynb",
      "provenance": [],
      "authorship_tag": "ABX9TyOZKj3CANYoaTcsyxyrnejq",
      "include_colab_link": true
    },
    "kernelspec": {
      "name": "python3",
      "display_name": "Python 3"
    },
    "language_info": {
      "name": "python"
    }
  },
  "cells": [
    {
      "cell_type": "markdown",
      "metadata": {
        "id": "view-in-github",
        "colab_type": "text"
      },
      "source": [
        "<a href=\"https://colab.research.google.com/github/MrH101/Data_analytics/blob/main/Intro_to_oop.ipynb\" target=\"_parent\"><img src=\"https://colab.research.google.com/assets/colab-badge.svg\" alt=\"Open In Colab\"/></a>"
      ]
    },
    {
      "cell_type": "markdown",
      "source": [
        "python classes and objects:python an objecct oriented pl\n",
        "A class is like an object pl or a blueprint for creating objects"
      ],
      "metadata": {
        "id": "POHPwvM7Zyjk"
      }
    },
    {
      "cell_type": "code",
      "execution_count": 1,
      "metadata": {
        "id": "rj6Y5Xrg47gg"
      },
      "outputs": [],
      "source": [
        "#to create a class we use the keyword class\n",
        "class Myclass:\n",
        "  pass"
      ]
    },
    {
      "cell_type": "code",
      "source": [
        "#to undestand classes one has to understand the __init__() function\n",
        "#every class have the function which is executed wheb the class is bring iniated\n",
        "#can be used to assign values to object properties\n",
        "class Person:\n",
        "  def __init__(self, name, age):\n",
        "    self.name = name\n",
        "    self.age = age\n",
        "\n",
        "p1=Person(\"hoko\",25) #creating an object\n",
        "print(p1.name)\n",
        "print(p1.age)"
      ],
      "metadata": {
        "colab": {
          "base_uri": "https://localhost:8080/"
        },
        "id": "uerG3wnSa6gQ",
        "outputId": "a2a702ef-2514-44dd-d219-c2329c2c6744"
      },
      "execution_count": 5,
      "outputs": [
        {
          "output_type": "stream",
          "name": "stdout",
          "text": [
            "hoko\n",
            "25\n"
          ]
        }
      ]
    },
    {
      "cell_type": "code",
      "source": [
        ""
      ],
      "metadata": {
        "id": "eWKWwX20ifH4"
      },
      "execution_count": null,
      "outputs": []
    }
  ]
}