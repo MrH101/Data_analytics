{
  "cells": [
    {
      "cell_type": "markdown",
      "metadata": {
        "id": "view-in-github",
        "colab_type": "text"
      },
      "source": [
        "<a href=\"https://colab.research.google.com/github/MrH101/Data_analytics/blob/main/Numpy_Tutorial.ipynb\" target=\"_parent\"><img src=\"https://colab.research.google.com/assets/colab-badge.svg\" alt=\"Open In Colab\"/></a>"
      ]
    },
    {
      "cell_type": "markdown",
      "metadata": {
        "id": "jhuNioymSOKc"
      },
      "source": [
        "A Numpy practical Tutorial "
      ]
    },
    {
      "cell_type": "markdown",
      "metadata": {
        "id": "seBboc0-WIgU"
      },
      "source": [
        "##**Use numpy array instead of python lists because it is fast,convenient and takes less memory**"
      ]
    },
    {
      "cell_type": "code",
      "execution_count": 1,
      "metadata": {
        "id": "LQsHniAsOsuU"
      },
      "outputs": [],
      "source": [
        "import numpy as np"
      ]
    },
    {
      "cell_type": "markdown",
      "source": [
        "**Creating Arrays**"
      ],
      "metadata": {
        "id": "Z7hXwKJt6rlI"
      }
    },
    {
      "cell_type": "code",
      "execution_count": 2,
      "metadata": {
        "id": "TNFCtAfgWIFw",
        "colab": {
          "base_uri": "https://localhost:8080/"
        },
        "outputId": "cc78cc65-e11e-4f0a-9d15-aecad62326dd"
      },
      "outputs": [
        {
          "output_type": "execute_result",
          "data": {
            "text/plain": [
              "array([[[0.86416795, 0.97161084, 0.66293531, 0.79538061],\n",
              "        [0.10991524, 0.24081543, 0.41275346, 0.12807496],\n",
              "        [0.13264538, 0.75809357, 0.44765535, 0.58021406]],\n",
              "\n",
              "       [[0.08061826, 0.54649518, 0.97419193, 0.36597698],\n",
              "        [0.76182174, 0.96924936, 0.97730771, 0.48500758],\n",
              "        [0.45262231, 0.05525025, 0.61396053, 0.42388277]]])"
            ]
          },
          "metadata": {},
          "execution_count": 2
        }
      ],
      "source": [
        "#random arrays\n",
        "data =np.random.rand(2,3,4)\n",
        "data"
      ]
    },
    {
      "cell_type": "code",
      "source": [
        "#array of ones\n",
        "dt =np.ones((2,2,2))\n",
        "dt"
      ],
      "metadata": {
        "colab": {
          "base_uri": "https://localhost:8080/"
        },
        "id": "eQCBlhwQ7Z6w",
        "outputId": "d287c949-6923-4c83-a319-25a288d3f120"
      },
      "execution_count": 3,
      "outputs": [
        {
          "output_type": "execute_result",
          "data": {
            "text/plain": [
              "array([[[1., 1.],\n",
              "        [1., 1.]],\n",
              "\n",
              "       [[1., 1.],\n",
              "        [1., 1.]]])"
            ]
          },
          "metadata": {},
          "execution_count": 3
        }
      ]
    },
    {
      "cell_type": "code",
      "source": [
        "#array of zeros\n",
        "dt_0 =np.zeros((2,2,2))\n",
        "dt_0"
      ],
      "metadata": {
        "colab": {
          "base_uri": "https://localhost:8080/"
        },
        "id": "S5tmvswb7mDU",
        "outputId": "5622fe67-277f-4e5e-833a-de2801e3c423"
      },
      "execution_count": 4,
      "outputs": [
        {
          "output_type": "execute_result",
          "data": {
            "text/plain": [
              "array([[[0., 0.],\n",
              "        [0., 0.]],\n",
              "\n",
              "       [[0., 0.],\n",
              "        [0., 0.]]])"
            ]
          },
          "metadata": {},
          "execution_count": 4
        }
      ]
    },
    {
      "cell_type": "code",
      "source": [
        "#full arrays\n",
        "full = np.full((2,2,2),7)\n",
        "full"
      ],
      "metadata": {
        "colab": {
          "base_uri": "https://localhost:8080/"
        },
        "id": "XAackY4Y75BY",
        "outputId": "74e6cc39-79bc-4071-a0a2-2595f2f177eb"
      },
      "execution_count": 5,
      "outputs": [
        {
          "output_type": "execute_result",
          "data": {
            "text/plain": [
              "array([[[7, 7],\n",
              "        [7, 7]],\n",
              "\n",
              "       [[7, 7],\n",
              "        [7, 7]]])"
            ]
          },
          "metadata": {},
          "execution_count": 5
        }
      ]
    },
    {
      "cell_type": "markdown",
      "source": [
        "##to create an array use np.array() function"
      ],
      "metadata": {
        "id": "C00vc_jyUhHc"
      }
    },
    {
      "cell_type": "code",
      "source": [
        "arr = np.array((1,2,3,4,5,6))\n",
        "print(arr)"
      ],
      "metadata": {
        "colab": {
          "base_uri": "https://localhost:8080/"
        },
        "id": "G3m2_StL-HgI",
        "outputId": "f715c4a3-29ba-4a55-832e-45ee9797d081"
      },
      "execution_count": 6,
      "outputs": [
        {
          "output_type": "stream",
          "name": "stdout",
          "text": [
            "[1 2 3 4 5 6]\n"
          ]
        }
      ]
    },
    {
      "cell_type": "markdown",
      "source": [
        "**printing dimensional arrays**\n",
        "To create an ndarray, we can pass a list, tuple or any array-like object into the array() method, and it will be converted into an ndarray"
      ],
      "metadata": {
        "id": "d_hjlIgwVDo0"
      }
    },
    {
      "cell_type": "code",
      "source": [
        "#0 dimensional\n",
        "arr_0 = np.array(56)\n",
        "print(arr_0)"
      ],
      "metadata": {
        "colab": {
          "base_uri": "https://localhost:8080/"
        },
        "id": "wNts9PLcU-JQ",
        "outputId": "7d06a7b5-da1f-4510-8052-a58b577b6d74"
      },
      "execution_count": 7,
      "outputs": [
        {
          "output_type": "stream",
          "name": "stdout",
          "text": [
            "56\n"
          ]
        }
      ]
    },
    {
      "cell_type": "code",
      "source": [
        "# 1 dimensional \n",
        "arr_1 = np.array([1,2,3,4,5,6,7])\n",
        "print(arr_1)"
      ],
      "metadata": {
        "id": "0OjOin1UVZMg",
        "colab": {
          "base_uri": "https://localhost:8080/"
        },
        "outputId": "b610412b-4464-46fe-ccdb-18408dc091f5"
      },
      "execution_count": 8,
      "outputs": [
        {
          "output_type": "stream",
          "name": "stdout",
          "text": [
            "[1 2 3 4 5 6 7]\n"
          ]
        }
      ]
    },
    {
      "cell_type": "code",
      "source": [
        "#2 dimensional:an array that has 1 d arrays as its elements\n",
        "#These are often used to represent matrix or 2nd order tensors.\n",
        "arr_2 = np.array([[1,2,3,4],[5,6,7,8]])\n",
        "print(arr_2)"
      ],
      "metadata": {
        "id": "nXcxhA5xWnik",
        "colab": {
          "base_uri": "https://localhost:8080/"
        },
        "outputId": "9cc01fbb-0a1f-4dec-a08b-55deba878a9e"
      },
      "execution_count": 9,
      "outputs": [
        {
          "output_type": "stream",
          "name": "stdout",
          "text": [
            "[[1 2 3 4]\n",
            " [5 6 7 8]]\n"
          ]
        }
      ]
    },
    {
      "cell_type": "code",
      "source": [
        "#3 dimensional arrays\n",
        "#An array that has 2-D arrays (matrices) as its elements is called 3-D array.\n",
        "#These are often used to represent a 3rd order tensor.\n",
        "arr_3 = np.array([[[1,2,3,4],[5,6,7,8]],[[1,2,3,4,],[5,6,7,8]]])\n",
        "print(arr_3)"
      ],
      "metadata": {
        "colab": {
          "base_uri": "https://localhost:8080/"
        },
        "id": "doCUDYPbTBW0",
        "outputId": "0b0d06ca-0baf-45c1-fa8f-d7ff0878e883"
      },
      "execution_count": 10,
      "outputs": [
        {
          "output_type": "stream",
          "name": "stdout",
          "text": [
            "[[[1 2 3 4]\n",
            "  [5 6 7 8]]\n",
            "\n",
            " [[1 2 3 4]\n",
            "  [5 6 7 8]]]\n"
          ]
        }
      ]
    },
    {
      "cell_type": "code",
      "source": [
        "#checking the dimensions of an array\n",
        "print(arr_0.ndim)\n",
        "print(arr_1.ndim)\n",
        "print(arr_2.ndim)\n",
        "print(arr_3.ndim)"
      ],
      "metadata": {
        "id": "2MTEZfs0WiVQ",
        "colab": {
          "base_uri": "https://localhost:8080/"
        },
        "outputId": "cfcf9aa2-885b-4171-b1c4-4863e0d252bf"
      },
      "execution_count": 11,
      "outputs": [
        {
          "output_type": "stream",
          "name": "stdout",
          "text": [
            "0\n",
            "1\n",
            "2\n",
            "3\n"
          ]
        }
      ]
    },
    {
      "cell_type": "code",
      "source": [
        "#creating arrays of higher dimensions \n"
      ],
      "metadata": {
        "id": "iTIWIyxubyOI"
      },
      "execution_count": 12,
      "outputs": []
    }
  ],
  "metadata": {
    "colab": {
      "name": "Numpy Tutorial.ipynb",
      "provenance": [],
      "authorship_tag": "ABX9TyMOBQWH0bdy3o9nJXr1JiI7",
      "include_colab_link": true
    },
    "kernelspec": {
      "display_name": "Python 3",
      "name": "python3"
    },
    "language_info": {
      "name": "python"
    }
  },
  "nbformat": 4,
  "nbformat_minor": 0
}