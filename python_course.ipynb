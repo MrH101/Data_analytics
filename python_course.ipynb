{
  "nbformat": 4,
  "nbformat_minor": 0,
  "metadata": {
    "colab": {
      "name": "python_course.ipynb",
      "provenance": [],
      "authorship_tag": "ABX9TyNwWeUTmScHxYhmRtYHNjTP",
      "include_colab_link": true
    },
    "kernelspec": {
      "name": "python3",
      "display_name": "Python 3"
    },
    "language_info": {
      "name": "python"
    }
  },
  "cells": [
    {
      "cell_type": "markdown",
      "metadata": {
        "id": "view-in-github",
        "colab_type": "text"
      },
      "source": [
        "<a href=\"https://colab.research.google.com/github/MrH101/Data_analytics/blob/main/python_course.ipynb\" target=\"_parent\"><img src=\"https://colab.research.google.com/assets/colab-badge.svg\" alt=\"Open In Colab\"/></a>"
      ]
    },
    {
      "cell_type": "code",
      "execution_count": 3,
      "metadata": {
        "id": "sDcfkR7lTSTE",
        "colab": {
          "base_uri": "https://localhost:8080/"
        },
        "outputId": "d6fe3f4e-a88e-48a5-962d-46a53f18a69d"
      },
      "outputs": [
        {
          "output_type": "stream",
          "name": "stdout",
          "text": [
            "hell world\n"
          ]
        }
      ],
      "source": [
        "#this is a comment\n",
        "\"\"\"this can work as a \n",
        "multiline comment \n",
        "maybe\"\"\"\n",
        "\n",
        "print (\"hell world\")"
      ]
    },
    {
      "cell_type": "markdown",
      "source": [
        "#Variables\n",
        "no command for variable declaraation\n",
        "no need to be declared with a particular type "
      ],
      "metadata": {
        "id": "4zqE8JiGqPsA"
      }
    },
    {
      "cell_type": "code",
      "source": [
        "x = 10\n",
        "print(x)\n",
        "x='python is cool'\n",
        "print(x)\n",
        "\n",
        "#variables can change  tyoe after assignmet "
      ],
      "metadata": {
        "colab": {
          "base_uri": "https://localhost:8080/"
        },
        "id": "1q-ZZRtbp3LQ",
        "outputId": "f329e04e-83b7-4eb9-d4f8-d7a73817c0a7"
      },
      "execution_count": 4,
      "outputs": [
        {
          "output_type": "stream",
          "name": "stdout",
          "text": [
            "10\n",
            "python is cool\n"
          ]
        }
      ]
    },
    {
      "cell_type": "markdown",
      "source": [
        "**type casting can be used to specify a data type of a varible**"
      ],
      "metadata": {
        "id": "LAQEaslgrG78"
      }
    },
    {
      "cell_type": "code",
      "source": [
        "x = str(4)\n",
        "y = int(3)\n",
        "z = float(5)\n",
        "print(x,y,z)\n",
        "print(type(x))\n",
        "print(type(y))\n",
        "print(type(z))"
      ],
      "metadata": {
        "colab": {
          "base_uri": "https://localhost:8080/"
        },
        "id": "vwy5viYNq4aQ",
        "outputId": "e42c7227-0379-472e-8c54-de96b9eb645c"
      },
      "execution_count": 7,
      "outputs": [
        {
          "output_type": "stream",
          "name": "stdout",
          "text": [
            "4 3 5.0\n",
            "<class 'str'>\n",
            "<class 'int'>\n",
            "<class 'float'>\n"
          ]
        }
      ]
    },
    {
      "cell_type": "markdown",
      "source": [
        "**Many Value to multiple variables**"
      ],
      "metadata": {
        "id": "XiA1ARj6sdm0"
      }
    },
    {
      "cell_type": "code",
      "source": [
        "X,Y,Z=\"orange\",\"Banana\",\"Cherry\"\n",
        "print(X)\n",
        "print(Y)\n",
        "print(Z)"
      ],
      "metadata": {
        "colab": {
          "base_uri": "https://localhost:8080/"
        },
        "id": "HSoLA8H9rZOQ",
        "outputId": "38f8246f-1545-42e6-f8f7-bfe1021d7a5f"
      },
      "execution_count": 8,
      "outputs": [
        {
          "output_type": "stream",
          "name": "stdout",
          "text": [
            "orange\n",
            "Banana\n",
            "Cherry\n"
          ]
        }
      ]
    },
    {
      "cell_type": "markdown",
      "source": [
        ""
      ],
      "metadata": {
        "id": "BT0bHyars5V0"
      }
    },
    {
      "cell_type": "code",
      "source": [
        ""
      ],
      "metadata": {
        "id": "HmjWx8NYs25k"
      },
      "execution_count": null,
      "outputs": []
    }
  ]
}